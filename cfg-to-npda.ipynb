{
 "cells": [
  {
   "cell_type": "markdown",
   "source": [
    "Context-Free Grammar to Non-deterministic push-down automata Convertor: "
   ],
   "metadata": {
    "collapsed": false
   },
   "id": "3f0dcada6caaa18b"
  },
  {
   "cell_type": "code",
   "outputs": [],
   "source": [
    "def cfg_to_npda(cfg):\n",
    "    productions = cfg['productions']\n",
    "    start_symbol = cfg['start_symbol']\n",
    "    \n",
    "    transitions = [(0, 'ε', 'ε', 1, start_symbol, 'PUSH')]\n",
    "    alphabet = set()\n",
    "    \n",
    "    for lhs, rhs_list in productions.items():\n",
    "        for rhs in rhs_list:\n",
    "            for char in rhs:\n",
    "                if char not in alphabet and char not in productions.keys():\n",
    "                    alphabet.add(char)\n",
    "                    transitions.append((1,  char, char, 1, 'ε', 'POP'))\n",
    "            if rhs == 'ε':\n",
    "                transitions.append((1, 'ε', lhs, 1, 'ε', 'POP'))\n",
    "            else:   \n",
    "                new_stack_symbols = ''.join(reversed(rhs))\n",
    "                transitions.append((1, 'ε', lhs, 1, new_stack_symbols, 'PUSH'))\n",
    "                \n",
    "\n",
    "    transitions.append((1, 'ε', '$', 2, 'ε', 'NONE'))\n",
    "    \n",
    "    return transitions"
   ],
   "metadata": {
    "collapsed": false,
    "ExecuteTime": {
     "end_time": "2024-07-01T22:16:46.807945Z",
     "start_time": "2024-07-01T22:16:46.801909Z"
    }
   },
   "id": "d33ec0f75e12b911",
   "execution_count": 34
  },
  {
   "cell_type": "markdown",
   "source": [
    "Input Section:"
   ],
   "metadata": {
    "collapsed": false
   },
   "id": "41c06cbf562238c6"
  },
  {
   "cell_type": "code",
   "outputs": [
    {
     "name": "stdout",
     "output_type": "stream",
     "text": [
      "NPDA Transitions:\n",
      "(0, 'ε', 'ε', 1, 'S', 'PUSH')\n",
      "(1, 'a', 'a', 1, 'ε', 'POP')\n",
      "(1, 'b', 'b', 1, 'ε', 'POP')\n",
      "(1, 'ε', 'S', 1, 'bAa', 'PUSH')\n",
      "(1, 'ε', 'A', 1, 'bSa', 'PUSH')\n",
      "(1, 'ε', 'ε', 1, 'ε', 'POP')\n",
      "(1, 'ε', 'A', 1, 'ε', 'POP')\n",
      "(1, 'ε', '$', 2, 'ε', 'NONE')\n",
      "Final state: 2\n"
     ]
    }
   ],
   "source": [
    "# Example CFG\n",
    "cfg = {\n",
    "    'start_symbol': 'S',\n",
    "    'productions': {\n",
    "        'S': ['aAb'],\n",
    "        'A': ['aSb', 'ε']\n",
    "    }\n",
    "}\n",
    "\n",
    "# Convert CFG to NPDA\n",
    "npda_transitions = cfg_to_npda(cfg)\n",
    "\n",
    "# Print the NPDA transitions\n",
    "print(\"NPDA Transitions:\")\n",
    "for transition in npda_transitions:\n",
    "    print(transition)\n",
    "\n",
    "print(f\"Final state: {2}\")"
   ],
   "metadata": {
    "collapsed": false,
    "ExecuteTime": {
     "end_time": "2024-07-01T22:16:47.569106Z",
     "start_time": "2024-07-01T22:16:47.563242Z"
    }
   },
   "id": "96e740d3b8fece40",
   "execution_count": 35
  }
 ],
 "metadata": {
  "kernelspec": {
   "display_name": "Python 3",
   "language": "python",
   "name": "python3"
  },
  "language_info": {
   "codemirror_mode": {
    "name": "ipython",
    "version": 2
   },
   "file_extension": ".py",
   "mimetype": "text/x-python",
   "name": "python",
   "nbconvert_exporter": "python",
   "pygments_lexer": "ipython2",
   "version": "2.7.6"
  }
 },
 "nbformat": 4,
 "nbformat_minor": 5
}
