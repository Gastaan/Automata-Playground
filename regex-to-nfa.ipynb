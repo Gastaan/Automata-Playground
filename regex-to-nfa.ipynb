{
 "cells": [
  {
   "cell_type": "markdown",
   "source": [
    "Definitions:"
   ],
   "metadata": {
    "collapsed": false
   },
   "id": "41780e6099b483bb"
  },
  {
   "cell_type": "code",
   "outputs": [],
   "source": [
    "# Define the State class representing an individual state in an NFA\n",
    "class State:\n",
    "    state_counter = 0  # Static counter to assign unique IDs to states\n",
    "    \n",
    "    def __init__(self):\n",
    "        self.transitions = {}  # Dictionary to store transitions from this state\n",
    "        self.id = State.state_counter  # Unique ID for this state\n",
    "        self.is_final = False  # Flag to indicate if this state is a final state\n",
    "        State.state_counter += 1  # Increment the state counter\n",
    "\n",
    "\n",
    "# Define the NFA class representing a non-deterministic finite automaton\n",
    "class NFA:\n",
    "    def __init__(self):\n",
    "        self.states = []  # List to store states of the NFA\n",
    "        self.alphabet = set()  # Set to store the alphabet of the NFA\n",
    "        self.start_state = None  # The start state of the NFA\n",
    "    \n",
    "    # Method to print the NFA details\n",
    "    def print(self):\n",
    "        print(\"Alphabet:\", ' '.join(sorted(self.alphabet)))  # Print the alphabet\n",
    "        print(\"States:\", ' '.join([f'q{i}' for i in range(len(self.states))]))  # Print the states\n",
    "        print(\"Start state: q0\")  # Print the start state\n",
    "        print(\"Final states:\", ' '.join([f'q{i}' for i, state in enumerate(self.states) if state.is_final]))  # Print the final states\n",
    "        print(\"Transitions:\")\n",
    "        # Print each transition\n",
    "        for i, state in enumerate(self.states):\n",
    "            for symbol, next_states in state.transitions.items():\n",
    "                for next_state in next_states:\n",
    "                    print(f\"q{i} {symbol} q{self.states.index(next_state)}\")\n"
   ],
   "metadata": {
    "collapsed": false,
    "ExecuteTime": {
     "end_time": "2024-07-01T19:26:27.692198Z",
     "start_time": "2024-07-01T19:26:27.690482Z"
    }
   },
   "id": "55a5067d4b786b41",
   "execution_count": 24
  },
  {
   "cell_type": "markdown",
   "source": [
    "Parse Regex: "
   ],
   "metadata": {
    "collapsed": false
   },
   "id": "9e55315121aacf79"
  },
  {
   "cell_type": "code",
   "outputs": [],
   "source": [
    "# Function to convert a regex to an NFA\n",
    "def regex_to_nfa(regex: str):\n",
    "    nfa = NFA()  # Create a new NFA\n",
    "    nfa.start_state, final_state, idx = parse_regex(regex, nfa, 0)  # Parse the regex to populate the NFA\n",
    "    final_state.is_final = True  # Mark the final state as final\n",
    "    return nfa  # Return the NFA\n",
    "\n",
    "\n",
    "# Function to parse the regex and construct the NFA\n",
    "def parse_regex(regex: str, nfa: NFA, start_idx: int):\n",
    "    start = State()  # Create a start state\n",
    "    nfa.states.append(start)  # Add the start state to the NFA\n",
    "    current = start  # Set the current state to the start state\n",
    "    past = None  # Variable to keep track of the previous state\n",
    "    \n",
    "    i = start_idx  # Initialize the index\n",
    "    while i < len(regex):\n",
    "        if regex[i].isalpha(): \n",
    "            nfa.alphabet.add(regex[i])  # Add the symbol to the alphabet\n",
    "            next_state = State()  # Create the next state\n",
    "            nfa.states.append(next_state)  # Add the next state to the NFA\n",
    "            current.transitions.setdefault(regex[i], []).append(next_state)  # Add the transition\n",
    "            past = current  # Update the past state\n",
    "            current = next_state  # Update the current state\n",
    "            \n",
    "        elif regex[i] == '*' and past is not None:\n",
    "            current.transitions.setdefault('ε', []).append(past)  # Add epsilon transition from current to past\n",
    "            past.transitions.setdefault('ε', []).append(current)  # Add epsilon transition from past to current\n",
    "        \n",
    "        elif regex[i] == '|':\n",
    "            next_start, next_end, j = parse_regex(regex, nfa, i + 1)  # Parse the sub-expression\n",
    "            start.transitions.setdefault('ε', []).append(next_start)  # Add epsilon transition from start to sub-start\n",
    "            next_state = State()  # Create the next state\n",
    "            nfa.states.append(next_state)  # Add the next state to the NFA\n",
    "            current.transitions.setdefault('ε', []).append(next_state)  # Add epsilon transition from current to next\n",
    "            next_end.transitions.setdefault('ε', []).append(next_state)  # Add epsilon transition from sub-end to next\n",
    "            return start, next_state, j  # Return the start, end states, and index\n",
    "        \n",
    "        elif regex[i] == '+' and past is not None:\n",
    "            current.transitions.setdefault('ε', []).append(past)  # Add epsilon transition from current to past\n",
    "        \n",
    "        elif regex[i] == '(':\n",
    "            sub_start, sub_end, j = parse_regex(regex, nfa, i + 1)  # Parse the sub-expression\n",
    "            current.transitions.setdefault('ε', []).append(sub_start)  # Add epsilon transition from current to sub-start\n",
    "            past = current  # Update the past state\n",
    "            current = sub_end  # Update the current state\n",
    "            i = j  # Update the index\n",
    "            \n",
    "        elif regex[i] == ')':\n",
    "            return start, current, i  # Return the start, end states, and index\n",
    "        \n",
    "        i += 1  # Move to the next character\n",
    "        \n",
    "    return start, current, i  # Return the start, end states, and index"
   ],
   "metadata": {
    "collapsed": false,
    "ExecuteTime": {
     "end_time": "2024-07-01T19:26:28.402723Z",
     "start_time": "2024-07-01T19:26:28.400550Z"
    }
   },
   "id": "88c3b009c02b981c",
   "execution_count": 25
  },
  {
   "cell_type": "markdown",
   "source": [
    "Validator: "
   ],
   "metadata": {
    "collapsed": false
   },
   "id": "31acd5c6155cb66f"
  },
  {
   "cell_type": "code",
   "outputs": [],
   "source": [
    "# Function to validate the input regex\n",
    "import re\n",
    "\n",
    "def is_valid_regex(input_string: str) -> bool:\n",
    "    # Define the regex pattern for valid characters\n",
    "    pattern = r\"^[a-z+\\*\\(\\)]*$\"\n",
    "    \n",
    "    # Check if the input string contains only valid characters\n",
    "    if not re.match(pattern, input_string):\n",
    "        return False\n",
    "\n",
    "    # Function to check for balanced parentheses\n",
    "    def are_parentheses_balanced(s):\n",
    "        stack = []\n",
    "        for char in s:\n",
    "            if char == '(':\n",
    "                stack.append(char)\n",
    "            elif char == ')':\n",
    "                if not stack:\n",
    "                    return False\n",
    "                stack.pop()\n",
    "        return not stack\n",
    "\n",
    "    # Check if the parentheses are balanced\n",
    "    if not are_parentheses_balanced(input_string):\n",
    "        return False\n",
    "\n",
    "    return True"
   ],
   "metadata": {
    "collapsed": false,
    "ExecuteTime": {
     "end_time": "2024-07-01T19:26:29.098459Z",
     "start_time": "2024-07-01T19:26:29.097231Z"
    }
   },
   "id": "5d794030e499adc2",
   "execution_count": 26
  },
  {
   "cell_type": "markdown",
   "source": [
    "Input Section:"
   ],
   "metadata": {
    "collapsed": false
   },
   "id": "e441b5422d14c57c"
  },
  {
   "cell_type": "code",
   "outputs": [
    {
     "name": "stdout",
     "output_type": "stream",
     "text": [
      "Alphabet: a b\n",
      "States: q0 q1 q2\n",
      "Start state: q0\n",
      "Final states: q2\n",
      "Transitions:\n",
      "q0 a q1\n",
      "q1 ε q0\n",
      "q1 b q2\n"
     ]
    }
   ],
   "source": [
    "# Input section to get the regex from the user\n",
    "regex = input()\n",
    "regex = regex.replace(\" \", \"\")  # Remove any whitespace from the input\n",
    "if not is_valid_regex(regex):\n",
    "    print(\"Invalid\")\n",
    "    raise ValueError(\"Invalid regex provided\")  # Raise an error if the regex is invalid\n",
    "\n",
    "nfa = regex_to_nfa(regex)  # Convert the regex to an NFA\n",
    "nfa.print()  # Print the NFA details"
   ],
   "metadata": {
    "collapsed": false,
    "ExecuteTime": {
     "end_time": "2024-07-01T19:26:31.914227Z",
     "start_time": "2024-07-01T19:26:30.056526Z"
    }
   },
   "id": "7af4dd604f5fbf8b",
   "execution_count": 27
  }
 ],
 "metadata": {
  "kernelspec": {
   "display_name": "Python 3",
   "language": "python",
   "name": "python3"
  },
  "language_info": {
   "codemirror_mode": {
    "name": "ipython",
    "version": 2
   },
   "file_extension": ".py",
   "mimetype": "text/x-python",
   "name": "python",
   "nbconvert_exporter": "python",
   "pygments_lexer": "ipython2",
   "version": "2.7.6"
  }
 },
 "nbformat": 4,
 "nbformat_minor": 5
}
