{
 "cells": [
  {
   "cell_type": "markdown",
   "source": [
    "Definitions:"
   ],
   "metadata": {
    "collapsed": false
   },
   "id": "41780e6099b483bb"
  },
  {
   "cell_type": "code",
   "outputs": [],
   "source": [
    "class State:\n",
    "    state_counter = 0\n",
    "    \n",
    "    def __init__(self):\n",
    "        self.transitions = {}\n",
    "        self.id = State.state_counter\n",
    "        self.is_final = False \n",
    "        State.state_counter = State.state_counter + 1\n",
    "\n",
    "\n",
    "class NFA:\n",
    "    def __init__(self):\n",
    "        self.states = []\n",
    "        self.alphabet = set()\n",
    "        self.start_state = None\n",
    "    \n",
    "    def print(self):\n",
    "        print(\"Alphabet:\", ' '.join(sorted(self.alphabet)))\n",
    "        print(\"States:\", ' '.join([f'q{i}' for i in range(len(self.states))]))\n",
    "        print(\"Start state: q0\")\n",
    "        print(\"Final states:\", ' '.join([f'q{i}' for i, state in enumerate(self.states) if state.is_final]))\n",
    "        print(\"Transitions:\")\n",
    "        for i, state in enumerate(self.states):\n",
    "            for symbol, next_states in state.transitions.items():\n",
    "                for next_state in next_states:\n",
    "                    print(f\"q{i} {symbol} q{self.states.index(next_state)}\")"
   ],
   "metadata": {
    "collapsed": false,
    "ExecuteTime": {
     "end_time": "2024-07-01T19:02:46.983227Z",
     "start_time": "2024-07-01T19:02:46.980048Z"
    }
   },
   "id": "55a5067d4b786b41",
   "execution_count": 35
  },
  {
   "cell_type": "markdown",
   "source": [
    "Parse Regex: "
   ],
   "metadata": {
    "collapsed": false
   },
   "id": "9e55315121aacf79"
  },
  {
   "cell_type": "code",
   "outputs": [],
   "source": [
    "def regex_to_nfa(regex):\n",
    "    nfa = NFA()\n",
    "    nfa.start_state, final_state, idx = parse_regex(regex, nfa, 0)\n",
    "    final_state.is_final = True\n",
    "    return nfa\n",
    "    \n",
    "def parse_regex(regex: str, nfa: NFA, start_idx: int):\n",
    "    start = State()\n",
    "    nfa.states.append(start)\n",
    "    current = start\n",
    "    past = None\n",
    "    \n",
    "    i = start_idx\n",
    "    while i < len(regex):\n",
    "        if regex[i].isalpha(): \n",
    "            nfa.alphabet.add(regex[i])\n",
    "            next_state = State()\n",
    "            nfa.states.append(next_state)\n",
    "            current.transitions.setdefault(regex[i], []).append(next_state)\n",
    "            past = current\n",
    "            current = next_state\n",
    "            \n",
    "        elif regex[i] == '*' and past is not None:\n",
    "            current.transitions.setdefault('ε', []).append(past)\n",
    "            past.transitions.setdefault('ε', []).append(current)\n",
    "        \n",
    "        elif regex[i] == '|':\n",
    "            next_start, next_end, j = parse_regex(regex, nfa, i + 1)\n",
    "            start.transitions.setdefault('ε', []).append(next_start)\n",
    "            next_state = State()\n",
    "            nfa.states.append(next_state)\n",
    "            current.transitions.setdefault('ε', []).append(next_state)\n",
    "            next_end.transitions.setdefault('ε', []).append(next_state)\n",
    "            return start, next_state, j\n",
    "        \n",
    "        elif regex[i] == '+' and past is not None:\n",
    "            current.transitions.setdefault('ε', []).append(past)\n",
    "        \n",
    "        elif regex[i] == '(':\n",
    "            sub_start, sub_end, j = parse_regex(regex, nfa, i + 1)\n",
    "            current.transitions.setdefault('ε', []).append(sub_start)\n",
    "            past = current\n",
    "            current = sub_end\n",
    "            i = j\n",
    "            \n",
    "        elif regex[i] == ')':\n",
    "            return start, current, i\n",
    "        \n",
    "        i = i + 1\n",
    "        \n",
    "    return start, current, i"
   ],
   "metadata": {
    "collapsed": false,
    "ExecuteTime": {
     "end_time": "2024-07-01T19:02:47.485688Z",
     "start_time": "2024-07-01T19:02:47.483485Z"
    }
   },
   "id": "88c3b009c02b981c",
   "execution_count": 36
  },
  {
   "cell_type": "markdown",
   "source": [
    "Validator: "
   ],
   "metadata": {
    "collapsed": false
   },
   "id": "31acd5c6155cb66f"
  },
  {
   "cell_type": "code",
   "outputs": [],
   "source": [
    "def validate_regex(regex: str) -> bool:\n",
    "    return True"
   ],
   "metadata": {
    "collapsed": false,
    "ExecuteTime": {
     "end_time": "2024-07-01T19:02:48.233596Z",
     "start_time": "2024-07-01T19:02:48.230422Z"
    }
   },
   "id": "5d794030e499adc2",
   "execution_count": 37
  },
  {
   "cell_type": "markdown",
   "source": [
    "Input Section:"
   ],
   "metadata": {
    "collapsed": false
   },
   "id": "e441b5422d14c57c"
  },
  {
   "cell_type": "code",
   "outputs": [
    {
     "name": "stdout",
     "output_type": "stream",
     "text": [
      "Alphabet: a b\n",
      "States: q0 q1 q2 q3 q4 q5 q6 q7\n",
      "Start state: q0\n",
      "Final states: q7\n",
      "Transitions:\n",
      "q0 a q1\n",
      "q1 a q2\n",
      "q2 ε q3\n",
      "q3 b q4\n",
      "q4 a q5\n",
      "q5 b q6\n",
      "q6 ε q2\n",
      "q6 a q7\n"
     ]
    }
   ],
   "source": [
    "regex = input()\n",
    "if not validate_regex(regex): \n",
    "    print(\"Invalid\")\n",
    "    exit(-1)\n",
    "nfa = regex_to_nfa(regex)\n",
    "nfa.print()"
   ],
   "metadata": {
    "collapsed": false,
    "ExecuteTime": {
     "end_time": "2024-07-01T19:02:54.042880Z",
     "start_time": "2024-07-01T19:02:49.700094Z"
    }
   },
   "id": "7af4dd604f5fbf8b",
   "execution_count": 38
  }
 ],
 "metadata": {
  "kernelspec": {
   "display_name": "Python 3",
   "language": "python",
   "name": "python3"
  },
  "language_info": {
   "codemirror_mode": {
    "name": "ipython",
    "version": 2
   },
   "file_extension": ".py",
   "mimetype": "text/x-python",
   "name": "python",
   "nbconvert_exporter": "python",
   "pygments_lexer": "ipython2",
   "version": "2.7.6"
  }
 },
 "nbformat": 4,
 "nbformat_minor": 5
}
